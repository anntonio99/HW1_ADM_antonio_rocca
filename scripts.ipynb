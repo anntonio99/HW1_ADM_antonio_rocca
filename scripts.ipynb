{
  "nbformat": 4,
  "nbformat_minor": 0,
  "metadata": {
    "colab": {
      "provenance": [],
      "collapsed_sections": []
    },
    "kernelspec": {
      "name": "python3",
      "display_name": "Python 3"
    },
    "language_info": {
      "name": "python"
    }
  },
  "cells": [
    {
      "cell_type": "markdown",
      "source": [
        "# Introduction"
      ],
      "metadata": {
        "id": "nz8uhDby_uQp"
      }
    },
    {
      "cell_type": "markdown",
      "source": [
        "### Say \"Hello, World!\" With Python"
      ],
      "metadata": {
        "id": "YdOOCIMX_uGp"
      }
    },
    {
      "cell_type": "code",
      "source": [
        "if __name__ == '__main__':\n",
        "    print(\"Hello, World!\")\n"
      ],
      "metadata": {
        "colab": {
          "base_uri": "https://localhost:8080/"
        },
        "id": "vLPYcC8q_sk1",
        "outputId": "5c80df55-b5e1-43ad-c1ae-11e38fc07e01"
      },
      "execution_count": null,
      "outputs": [
        {
          "output_type": "stream",
          "name": "stdout",
          "text": [
            "Hello, World!\n"
          ]
        }
      ]
    },
    {
      "cell_type": "markdown",
      "source": [
        "### Python If-Else"
      ],
      "metadata": {
        "id": "fT9OqnNc_5z_"
      }
    },
    {
      "cell_type": "code",
      "source": [
        "#!/bin/python3\n",
        "\n",
        "import math\n",
        "import os\n",
        "import random\n",
        "import re\n",
        "import sys\n",
        "\n",
        "\n",
        "\n",
        "if __name__ == '__main__':\n",
        "    n = int(input().strip())\n",
        "if n%2 == 1:\n",
        "    print(\"Weird\")\n",
        "elif n >= 2 and n <= 5:\n",
        "    print(\"Not Weird\")\n",
        "elif n <= 20:\n",
        "    print(\"Weird\")\n",
        "else:\n",
        "    print(\"Not Weird\")\n"
      ],
      "metadata": {
        "id": "jUpLK8yoHoQH"
      },
      "execution_count": null,
      "outputs": []
    },
    {
      "cell_type": "markdown",
      "source": [
        "### Arithmetic Operators"
      ],
      "metadata": {
        "id": "whAh54cXAFJB"
      }
    },
    {
      "cell_type": "code",
      "source": [
        "if __name__ == '__main__':\n",
        "    a = int(input())\n",
        "    b = int(input())\n",
        "    \n",
        "    print(a+b)\n",
        "    print(a-b)\n",
        "    print(a*b)\n"
      ],
      "metadata": {
        "id": "Ri5UfIahAFXJ"
      },
      "execution_count": null,
      "outputs": []
    },
    {
      "cell_type": "markdown",
      "source": [
        "### Python: Division"
      ],
      "metadata": {
        "id": "vChoM-PrAFlf"
      }
    },
    {
      "cell_type": "code",
      "source": [
        "if __name__ == '__main__':\n",
        "    a = int(input())\n",
        "    b = int(input())\n",
        "    \n",
        "    print(a//b)\n",
        "    print(a/b)\n"
      ],
      "metadata": {
        "id": "EJdGKJQRAF4W"
      },
      "execution_count": null,
      "outputs": []
    },
    {
      "cell_type": "markdown",
      "source": [
        "### Loops"
      ],
      "metadata": {
        "id": "lVSOVDjlAGFA"
      }
    },
    {
      "cell_type": "code",
      "source": [
        "if __name__ == '__main__':\n",
        "    n = int(input())\n",
        "    \n",
        "    for i in range(n):\n",
        "        print(i**2)\n",
        "        "
      ],
      "metadata": {
        "id": "85mxLV-XAGUV"
      },
      "execution_count": null,
      "outputs": []
    },
    {
      "cell_type": "markdown",
      "source": [
        "### Write a function"
      ],
      "metadata": {
        "id": "WpZn-mwLAa3n"
      }
    },
    {
      "cell_type": "code",
      "source": [
        "def is_leap(year):\n",
        "    leap = False\n",
        "    if year%4 == 0:\n",
        "        if year%100 == 0:\n",
        "            if year%400 == 0:\n",
        "                leap = True\n",
        "            else:\n",
        "                leap = False\n",
        "    \n",
        "        else:\n",
        "            leap = True\n",
        "    else:\n",
        "        leap = False\n",
        "    return leap\n",
        "\n",
        "year = int(input())"
      ],
      "metadata": {
        "id": "yzvprVJOAbE9"
      },
      "execution_count": null,
      "outputs": []
    },
    {
      "cell_type": "markdown",
      "source": [
        "### Print Function"
      ],
      "metadata": {
        "id": "0pYP50-oAbQw"
      }
    },
    {
      "cell_type": "code",
      "source": [
        "if __name__ == '__main__':\n",
        "    n = int(input())\n",
        "    \n",
        "    print(*list(range(1, n+1)), sep='')\n"
      ],
      "metadata": {
        "id": "XcylGUMdAbc6"
      },
      "execution_count": null,
      "outputs": []
    },
    {
      "cell_type": "markdown",
      "source": [
        "# Basic Data Types"
      ],
      "metadata": {
        "id": "gi2qAb1DAbpQ"
      }
    },
    {
      "cell_type": "markdown",
      "source": [
        "### List Comprehensions"
      ],
      "metadata": {
        "id": "kp3icWWgA3Bx"
      }
    },
    {
      "cell_type": "code",
      "source": [
        "if __name__ == '__main__':\n",
        "    x = int(input())\n",
        "    y = int(input())\n",
        "    z = int(input())\n",
        "    n = int(input())\n",
        "    \n",
        "    result = [[i,j,k] for i in range(x+1) for j in range(y+1) for k in range(z+1)                if i+j+k != n]\n",
        "\n",
        "    print(result)\n"
      ],
      "metadata": {
        "id": "_7pgvLM0Ab2u"
      },
      "execution_count": null,
      "outputs": []
    },
    {
      "cell_type": "markdown",
      "source": [
        "### Find the Runner-Up Score!"
      ],
      "metadata": {
        "id": "ymyNd0bEAcRs"
      }
    },
    {
      "cell_type": "code",
      "source": [
        "if __name__ == '__main__':\n",
        "    n = int(input())\n",
        "    arr = map(int, input().split())\n",
        "\n",
        "    \n",
        "    \n",
        "    l = [i for i in arr]\n",
        "    l = list(set(l))\n",
        "    l.sort()\n",
        "    print(l[-2])\n"
      ],
      "metadata": {
        "id": "mjwFXDM5Acll"
      },
      "execution_count": null,
      "outputs": []
    },
    {
      "cell_type": "markdown",
      "source": [
        "### Nested Lists"
      ],
      "metadata": {
        "id": "45Gkl02MAc6X"
      }
    },
    {
      "cell_type": "code",
      "source": [
        "if __name__ == '__main__':\n",
        "    l = []\n",
        "    for _ in range(int(input())):\n",
        "        name = input()\n",
        "        score = float(input())\n",
        "        l.append([name, score])\n",
        "        \n",
        "    \n",
        "        \n",
        "\n",
        "    l.sort(key = lambda x: x[1])\n",
        "    s = set([li[1] for li in l])\n",
        "    second_lowest_grade = sorted(list(s))[1]\n",
        "    names_out = [li[0] for li in l if li[1] == second_lowest_grade]\n",
        "    names_out.sort()\n",
        "    for i in range(len(names_out)):\n",
        "        print(names_out[i])\n",
        "    \n",
        "        \n",
        "    \n"
      ],
      "metadata": {
        "id": "gJnhi_INAdJg"
      },
      "execution_count": null,
      "outputs": []
    },
    {
      "cell_type": "markdown",
      "source": [
        "### Finding the percentage"
      ],
      "metadata": {
        "id": "l2Vbvf0dAdZP"
      }
    },
    {
      "cell_type": "code",
      "source": [
        "if __name__ == '__main__':\n",
        "    n = int(input())\n",
        "    student_marks = {}\n",
        "    for _ in range(n):\n",
        "        name, *line = input().split()\n",
        "        scores = list(map(float, line))\n",
        "        student_marks[name] = scores\n",
        "    query_name = input()\n",
        "    \n",
        "    \n",
        "    print(format(round(sum(student_marks[query_name])/3, 3), '.2f'))\n"
      ],
      "metadata": {
        "id": "i3BCNXGUAdnI"
      },
      "execution_count": null,
      "outputs": []
    },
    {
      "cell_type": "markdown",
      "source": [
        "### Lists"
      ],
      "metadata": {
        "id": "kzgQjlYaAd0_"
      }
    },
    {
      "cell_type": "code",
      "source": [
        "if __name__ == '__main__':\n",
        "    N = int(input())\n",
        "    \n",
        "    list = []\n",
        "    \n",
        "        \n",
        "for i in range(N): \n",
        "  inp=input().split()\n",
        "  if inp[0]==\"insert\": \n",
        "     list.insert(int(inp[1]),int(inp[2])) \n",
        "  elif inp[0]==\"remove\": \n",
        "     list.remove(int(inp[1])) \n",
        "  elif inp[0]==\"pop\":  \n",
        "     list.pop() \n",
        "  elif inp[0]==\"reverse\": \n",
        "     list.reverse() \n",
        "  elif inp[0]==\"print\": \n",
        "     print(list) \n",
        "  elif inp[0]==\"append\": \n",
        "     list.append(int(inp[1])) \n",
        "  elif inp[0]==\"sort\": \n",
        "     list.sort()\n",
        "\n"
      ],
      "metadata": {
        "id": "vsq85Rw7AeBn"
      },
      "execution_count": null,
      "outputs": []
    },
    {
      "cell_type": "markdown",
      "source": [
        "### Tuples"
      ],
      "metadata": {
        "id": "881OdiMSAGh6"
      }
    },
    {
      "cell_type": "code",
      "source": [
        "if __name__ == '__main__':\n",
        "    n = int(input())\n",
        "    integer_list = map(int, input().split())\n",
        "    \n",
        "    t = tuple(integer_list)\n",
        "    print(hash(t))\n"
      ],
      "metadata": {
        "id": "zOGOrRZpBdfF"
      },
      "execution_count": null,
      "outputs": []
    },
    {
      "cell_type": "markdown",
      "source": [
        "# Strings"
      ],
      "metadata": {
        "id": "mdoCTrnvBdyu"
      }
    },
    {
      "cell_type": "markdown",
      "source": [
        "### sWAP cASE"
      ],
      "metadata": {
        "id": "f7QjRMkKBw81"
      }
    },
    {
      "cell_type": "code",
      "source": [
        "def swap_case(s):\n",
        "    s_out = s.swapcase()\n",
        "    return s_out\n",
        "\n",
        "if __name__ == '__main__':\n",
        "    s = input()\n",
        "    result = swap_case(s)\n",
        "    print(result)"
      ],
      "metadata": {
        "id": "ffQfO3jnBeA5"
      },
      "execution_count": null,
      "outputs": []
    },
    {
      "cell_type": "markdown",
      "source": [
        "### String Split and Join"
      ],
      "metadata": {
        "id": "Fde6OO07BeOB"
      }
    },
    {
      "cell_type": "code",
      "source": [
        "def split_and_join(line):\n",
        "    return \"-\".join(line.split(\" \"))\n",
        "\n",
        "if __name__ == '__main__':\n",
        "    line = input()\n",
        "    result = split_and_join(line)\n",
        "    print(result)\n"
      ],
      "metadata": {
        "id": "N3rBhuV_Bebp"
      },
      "execution_count": null,
      "outputs": []
    },
    {
      "cell_type": "markdown",
      "source": [
        "### What's Your Name?"
      ],
      "metadata": {
        "id": "Y8dpHC6kBepr"
      }
    },
    {
      "cell_type": "code",
      "source": [
        "#\n",
        "# Complete the 'print_full_name' function below.\n",
        "#\n",
        "# The function is expected to return a STRING.\n",
        "# The function accepts following parameters:\n",
        "#  1. STRING first\n",
        "#  2. STRING last\n",
        "#\n",
        "\n",
        "def print_full_name(first, last):\n",
        "    print(\"Hello \" + first + \" \" + last + \"! \" + \"You just delved into python.\")\n",
        "\n",
        "    \n",
        "if __name__ == '__main__':\n",
        "    first_name = input()\n",
        "    last_name = input()\n",
        "    print_full_name(first_name, last_name)"
      ],
      "metadata": {
        "id": "1zBQ-GwcBe4B"
      },
      "execution_count": null,
      "outputs": []
    },
    {
      "cell_type": "markdown",
      "source": [
        "### Mutations"
      ],
      "metadata": {
        "id": "o_94kum7BfFm"
      }
    },
    {
      "cell_type": "code",
      "source": [
        "def mutate_string(string, position, character):\n",
        "    l = list(string)\n",
        "    l[position] = character\n",
        "    return ''.join(l)\n",
        "\n",
        "if __name__ == '__main__':\n",
        "    s = input()\n",
        "    i, c = input().split()\n",
        "    s_new = mutate_string(s, int(i), c)\n",
        "    print(s_new)"
      ],
      "metadata": {
        "id": "LR0_8-yWBfTf"
      },
      "execution_count": null,
      "outputs": []
    },
    {
      "cell_type": "markdown",
      "source": [
        "### Find a string"
      ],
      "metadata": {
        "id": "kq-iKha1Bff2"
      }
    },
    {
      "cell_type": "code",
      "source": [
        "def count_substring(string, sub_string):\n",
        "  count = 0\n",
        "  while string.find(sub_string) != -1:\n",
        "    count += 1\n",
        "    string = string[string.find(sub_string) + 1 : ]\n",
        "\n",
        "  return count\n",
        "\n",
        "if __name__ == '__main__':\n",
        "    string = input().strip()\n",
        "    sub_string = input().strip()\n",
        "    \n",
        "    count = count_substring(string, sub_string)\n",
        "    print(count)"
      ],
      "metadata": {
        "id": "09swhyjDBfs4"
      },
      "execution_count": null,
      "outputs": []
    },
    {
      "cell_type": "markdown",
      "source": [
        "### String Validators"
      ],
      "metadata": {
        "id": "HQAC_4jMBf5H"
      }
    },
    {
      "cell_type": "code",
      "source": [
        "if __name__ == '__main__':\n",
        "    s = input()\n",
        "    \n",
        "    print(any([l.isalnum() for l in s]))\n",
        "    print(any([l.isalpha() for l in s]))\n",
        "    print(any([l.isdigit() for l in s]))\n",
        "    print(any([l.islower() for l in s]))\n",
        "    print(any([l.isupper() for l in s]))\n"
      ],
      "metadata": {
        "id": "Wvmc_UbQBgFj"
      },
      "execution_count": null,
      "outputs": []
    },
    {
      "cell_type": "markdown",
      "source": [
        "### Text Alignment"
      ],
      "metadata": {
        "id": "2g2BG_OxBgRv"
      }
    },
    {
      "cell_type": "code",
      "source": [
        "thickness = int(input())\n",
        "t = thickness\n",
        "\n",
        "for i in range(t):\n",
        "    print((\"H\" * (2*i + 1)).center(2*t - 1))\n",
        "\n",
        "for i in range(t + 1):\n",
        "  print(\" \"*(int((t-1)/2)) + \"H\"*t + \" \"*(3*t) + \"H\"*t) \n",
        "\n",
        "for i in range(int((t + 1)/2)):\n",
        "  print(\" \" * int((t - 1)/2) + (\"H\"*(5*t)))\n",
        "\n",
        "for i in range(t + 1):\n",
        "  print(\" \"*(int((t-1)/2)) + \"H\"*t + \" \"*(3*t) + \"H\"*t)\n",
        "\n",
        "for i in range(t - 1, -1, -1):\n",
        "    #print((\"H\" * (2*i + 1)).center(2*t - 1).rjust(int((7*(t + 3) + 2)/2)))\n",
        "    print((\"H\" * (2*i + 1)).center(2*t - 1).rjust(6*t -1))\n"
      ],
      "metadata": {
        "id": "WRU4OedKBgdz"
      },
      "execution_count": null,
      "outputs": []
    },
    {
      "cell_type": "markdown",
      "source": [
        "### Text Wrap"
      ],
      "metadata": {
        "id": "lMgYEByhBgqP"
      }
    },
    {
      "cell_type": "code",
      "source": [
        "import textwrap\n",
        "\n",
        "def wrap(string, max_width):\n",
        "    wrapper = textwrap.TextWrapper(width = max_width)\n",
        "  \n",
        "    word_list = wrapper.wrap(text=string)\n",
        "    \n",
        "    string_out = \"\"\n",
        "    for i in word_list:\n",
        "        string_out = string_out + i + \"\\n\"\n",
        "    return string_out\n",
        "\n",
        "if __name__ == '__main__':\n",
        "    string, max_width = input(), int(input())\n",
        "    result = wrap(string, max_width)\n",
        "    print(result)"
      ],
      "metadata": {
        "id": "ygx5CLZCBg2l"
      },
      "execution_count": null,
      "outputs": []
    },
    {
      "cell_type": "markdown",
      "source": [
        "### Designer Door Mat"
      ],
      "metadata": {
        "id": "u6bjLvelBhLE"
      }
    },
    {
      "cell_type": "code",
      "source": [
        "aaa = input().split()\n",
        "N = int(aaa[0])\n",
        "M = int(aaa[1])\n",
        "\n",
        "\n",
        "for i in range(int((N-1)/2)):\n",
        "    print((\".|\" + \"..|\"*(2*i) + \".\").center(M, '-'))\n",
        "\n",
        "print(\"WELCOME\".center(M, '-'))\n",
        "\n",
        "for i in range(int((N-1)/2) - 1, -1, -1):\n",
        "  print((\".|\" + \"..|\"*(2*i) + \".\").center(M, '-'))\n"
      ],
      "metadata": {
        "id": "TgTX0fDABhZH"
      },
      "execution_count": null,
      "outputs": []
    },
    {
      "cell_type": "markdown",
      "source": [
        "### String Formatting"
      ],
      "metadata": {
        "id": "WVUxAamwBhlw"
      }
    },
    {
      "cell_type": "code",
      "source": [
        "def print_formatted(number):\n",
        "    for i in range(1, number + 1):\n",
        "        print(i, \n",
        "              oct(i)[2:].rjust(len(bin(number)[2:]) - 2, ' '),\n",
        "              hex(i)[2:].rjust(len(bin(number)[2:]) - 2, ' '),\n",
        "              bin(i)[2:].rjust(len(bin(number)[2:]) - 2, ' ') )\n",
        "\n",
        "if __name__ == '__main__':\n",
        "    n = int(input())\n",
        "    print_formatted(n)"
      ],
      "metadata": {
        "id": "ETbZnci5BhxC"
      },
      "execution_count": null,
      "outputs": []
    },
    {
      "cell_type": "markdown",
      "source": [
        "### Alphabet Rangoli"
      ],
      "metadata": {
        "id": "v0JYjhV0C54U"
      }
    },
    {
      "cell_type": "code",
      "source": [
        "def print_rangoli(size):\n",
        "    alphabet = list(map(chr, range(97, 123)))\n",
        "\n",
        "    N = 2*size - 1\n",
        "    M = 2*N - 1\n",
        "\n",
        "    for i in range(size, 0, -1):\n",
        "        letters_to_print = alphabet[i-1 : size][::-1] + alphabet[i : size]\n",
        "        print('-'.join(letters_to_print).center(M,'-'))\n",
        "\n",
        "    for i in range(2, size + 1):\n",
        "        letters_to_print = alphabet[i-1 : size][::-1] + alphabet[i : size]\n",
        "        print('-'.join(letters_to_print).center(M,'-'))\n",
        "\n",
        "if __name__ == '__main__':\n",
        "    n = int(input())\n",
        "    print_rangoli(n)"
      ],
      "metadata": {
        "id": "z3pMJGtuC6En"
      },
      "execution_count": null,
      "outputs": []
    },
    {
      "cell_type": "markdown",
      "source": [
        "### Capitalize!"
      ],
      "metadata": {
        "id": "Mn6R3OROC6Sb"
      }
    },
    {
      "cell_type": "code",
      "source": [
        "#!/bin/python3\n",
        "\n",
        "import math\n",
        "import os\n",
        "import random\n",
        "import re\n",
        "import sys\n",
        "\n",
        "# Complete the solve function below.\n",
        "def solve(s):\n",
        "    l = list(s)\n",
        "\n",
        "    space = True\n",
        "    for i in range(len(l)):\n",
        "        if space == True and l[i] != ' ': \n",
        "            l[i] = l[i].upper()\n",
        "            space = False\n",
        "        if l[i] == ' ': space = True\n",
        "\n",
        "    return ''.join(l)\n",
        "if __name__ == '__main__':\n",
        "    fptr = open(os.environ['OUTPUT_PATH'], 'w')\n",
        "\n",
        "    s = input()\n",
        "\n",
        "    result = solve(s)\n",
        "\n",
        "    fptr.write(result + '\\n')\n",
        "\n",
        "    fptr.close()\n"
      ],
      "metadata": {
        "id": "fzWmsbxjC6ej"
      },
      "execution_count": null,
      "outputs": []
    },
    {
      "cell_type": "markdown",
      "source": [
        "### The Minion Game"
      ],
      "metadata": {
        "id": "xrKs4KE4C6rd"
      }
    },
    {
      "cell_type": "code",
      "source": [
        "def isvowel(s):\n",
        "  if s == 'A' or s == 'E' or s == 'I' or s == 'O' or s == 'U':\n",
        "    return(True)\n",
        "  else: \n",
        "    return(False)\n",
        "\n",
        "\n",
        "def minion_game(string):\n",
        "    \n",
        "    kevin_score = 0\n",
        "    stuart_score = 0\n",
        "\n",
        "    length = len(string)\n",
        "    for letter in string:\n",
        "        if isvowel(letter) == True:\n",
        "            kevin_score += length\n",
        "        else:\n",
        "            stuart_score += length\n",
        "        length -= 1\n",
        "  \n",
        "\n",
        "    if kevin_score > stuart_score:\n",
        "        print(\"Kevin \" + str(kevin_score))\n",
        "    elif kevin_score < stuart_score:\n",
        "        print(\"Stuart \" + str(stuart_score))\n",
        "    else:\n",
        "        print(\"Draw\")\n",
        "\n",
        "if __name__ == '__main__':\n",
        "    s = input()\n",
        "    minion_game(s)"
      ],
      "metadata": {
        "id": "3Bf0H9MSC65E"
      },
      "execution_count": null,
      "outputs": []
    },
    {
      "cell_type": "markdown",
      "source": [
        "### Merge the Tools!"
      ],
      "metadata": {
        "id": "zOboKeOSC7Fp"
      }
    },
    {
      "cell_type": "code",
      "source": [
        "def merge_the_tools(string, k):\n",
        "    sub = [string[i: i + k] for i in range(0, len(string), k)]\n",
        "\n",
        "    for i in range(len(sub)):\n",
        "        print(''.join(list(set(list(sub[i])))))\n",
        "\n",
        "if __name__ == '__main__':\n",
        "    string, k = input(), int(input())\n",
        "    merge_the_tools(string, k)"
      ],
      "metadata": {
        "id": "a_jtNZWkC7U7"
      },
      "execution_count": null,
      "outputs": []
    },
    {
      "cell_type": "markdown",
      "source": [
        "# Sets"
      ],
      "metadata": {
        "id": "a5fdFim3DrEG"
      }
    },
    {
      "cell_type": "markdown",
      "source": [
        "### Introduction to Sets"
      ],
      "metadata": {
        "id": "7YDgikgoC7iz"
      }
    },
    {
      "cell_type": "code",
      "source": [
        "def average(array):\n",
        "    distinct = set(array)\n",
        "    mean = sum(distinct)/len(distinct)\n",
        "    return round(mean, 3)\n",
        "\n",
        "\n",
        "if __name__ == '__main__':\n",
        "    n = int(input())\n",
        "    arr = list(map(int, input().split()))\n",
        "    result = average(arr)\n",
        "    print(result)"
      ],
      "metadata": {
        "id": "C_aNckxEC7xN"
      },
      "execution_count": null,
      "outputs": []
    },
    {
      "cell_type": "markdown",
      "source": [
        "### No Idea!"
      ],
      "metadata": {
        "id": "9rAcFuTDC7_W"
      }
    },
    {
      "cell_type": "code",
      "source": [
        "n_m = input().split()\n",
        "array = input().split()\n",
        "A = input().split()\n",
        "B = input().split()\n",
        "\n",
        "n = int(n_m[0])\n",
        "m = int(n_m[1])\n",
        "l = map(int, array)\n",
        "A = set(map(int, A))\n",
        "B = set(map(int, B))\n",
        "\n",
        "happiness = 0\n",
        "\n",
        "for el in l:\n",
        "  if el in A: happiness += 1\n",
        "  elif el in B: happiness -= 1\n",
        "  \n",
        "print(happiness)\n",
        "\n"
      ],
      "metadata": {
        "id": "q0nlZD5SC8MU"
      },
      "execution_count": null,
      "outputs": []
    },
    {
      "cell_type": "markdown",
      "source": [
        "### Symmetric Difference"
      ],
      "metadata": {
        "id": "okvrPotzC8am"
      }
    },
    {
      "cell_type": "code",
      "source": [
        "N = input()\n",
        "s1 = input().split()\n",
        "M = input()\n",
        "s2 = input().split()\n",
        "\n",
        "s1 = set(map(int, s1))\n",
        "s2 = set(map(int, s2))\n",
        "\n",
        "sym_diff = s1.difference(s2).union(s2.difference(s1))\n",
        "sym_diff = sorted(list(sym_diff))\n",
        "\n",
        "for el in sym_diff:\n",
        "    print(el)\n"
      ],
      "metadata": {
        "id": "FTHx1NZ9C8n4"
      },
      "execution_count": null,
      "outputs": []
    },
    {
      "cell_type": "markdown",
      "source": [
        "### Set .add()"
      ],
      "metadata": {
        "id": "WlEJVEJIC816"
      }
    },
    {
      "cell_type": "code",
      "source": [
        "s = set()\n",
        "for _ in range(int(input())):\n",
        "    s.add(input())\n",
        "    \n",
        "s = set([l.lower() for l in s])\n",
        "\n",
        "print(len(s))\n"
      ],
      "metadata": {
        "id": "xVk9tIXuC9DA"
      },
      "execution_count": null,
      "outputs": []
    },
    {
      "cell_type": "markdown",
      "source": [
        "### Set .discard(), .remove() & .pop()"
      ],
      "metadata": {
        "id": "oBiRLQsIC9RG"
      }
    },
    {
      "cell_type": "code",
      "source": [
        "n = int(input())\n",
        "s = set(map(int,input().split()))\n",
        "N = int(input())\n",
        "\n",
        "\n",
        "for _ in range(N):\n",
        "    command = input().split()\n",
        "    if command[0] == 'pop':\n",
        "        s = set(sorted(list(s))[1:])  #pop non funziona\n",
        "    if command[0] == 'remove':\n",
        "        s.remove(int(command[1]))\n",
        "    if command[0] == 'discard':\n",
        "        s.discard(int(command[1]))\n",
        "        \n",
        "print(sum(s))\n"
      ],
      "metadata": {
        "id": "00qUc1wzC9ed"
      },
      "execution_count": null,
      "outputs": []
    },
    {
      "cell_type": "markdown",
      "source": [
        "### Set .union() Operation"
      ],
      "metadata": {
        "id": "aMIpI9AhC9te"
      }
    },
    {
      "cell_type": "code",
      "source": [
        "n = int(input())\n",
        "english = set(map(int, input().split()))\n",
        "b = int(input())\n",
        "french = set(map(int, input().split()))\n",
        "\n",
        "print(len(english | french))\n"
      ],
      "metadata": {
        "id": "llpqpdXrC97T"
      },
      "execution_count": null,
      "outputs": []
    },
    {
      "cell_type": "markdown",
      "source": [
        "### Set .intersection() Operation"
      ],
      "metadata": {
        "id": "XsHF2FcoC-KB"
      }
    },
    {
      "cell_type": "code",
      "source": [
        "n = int(input())\n",
        "english = set(map(int, input().split()))\n",
        "b = int(input())\n",
        "french = set(map(int, input().split()))\n",
        "\n",
        "print(len(english & french))\n"
      ],
      "metadata": {
        "id": "lpiKjXJMC-Xu"
      },
      "execution_count": null,
      "outputs": []
    },
    {
      "cell_type": "markdown",
      "source": [
        "### Set .difference() Operation"
      ],
      "metadata": {
        "id": "TQ603KOpC-lr"
      }
    },
    {
      "cell_type": "code",
      "source": [
        "n = int(input())\n",
        "english = set(map(int, input().split()))\n",
        "b = int(input())\n",
        "french = set(map(int, input().split()))\n",
        "\n",
        "print(len(english - french))\n"
      ],
      "metadata": {
        "id": "Md1m37y-C-xe"
      },
      "execution_count": null,
      "outputs": []
    },
    {
      "cell_type": "markdown",
      "source": [
        "### Set .symmetric_difference() Operation"
      ],
      "metadata": {
        "id": "KXKtHIk9C--H"
      }
    },
    {
      "cell_type": "code",
      "source": [
        "n = int(input())\n",
        "english = set(map(int, input().split()))\n",
        "b = int(input())\n",
        "french = set(map(int, input().split()))\n",
        "\n",
        "print(len(english ^ french))\n"
      ],
      "metadata": {
        "id": "FG7CVLuXC_LQ"
      },
      "execution_count": null,
      "outputs": []
    },
    {
      "cell_type": "markdown",
      "source": [
        "### Set Mutations"
      ],
      "metadata": {
        "id": "aTr94pQrC_Y4"
      }
    },
    {
      "cell_type": "code",
      "source": [
        "n = int(input())\n",
        "A = set(map(int, input().split()))\n",
        "\n",
        "for _ in range(int(input())):\n",
        "    instruction = input().split()\n",
        "    set_instr = set(map(int, input().split()))\n",
        "    if instruction[0] == 'update':\n",
        "        A.update(set_instr)\n",
        "    if instruction[0] == 'intersection_update':\n",
        "        A.intersection_update(set_instr)\n",
        "    if instruction[0] == 'symmetric_difference_update':\n",
        "        A.symmetric_difference_update(set_instr)\n",
        "    if instruction[0] == 'difference_update':\n",
        "        A.difference_update(set_instr)\n",
        "        \n",
        "\n",
        "print(sum(A))\n",
        "    \n"
      ],
      "metadata": {
        "id": "D9pZju6vC_li"
      },
      "execution_count": null,
      "outputs": []
    },
    {
      "cell_type": "markdown",
      "source": [
        "### The Captain's Room"
      ],
      "metadata": {
        "id": "1ZIcvARWC_x9"
      }
    },
    {
      "cell_type": "code",
      "source": [
        "K = int(input())\n",
        "l = list(map(int, input().split()))\n",
        "\n",
        "l = sorted(l)\n",
        "\n",
        "prev = l[0]\n",
        "occhio = 0\n",
        "for i in range(len(l)):\n",
        "  if l[i] == prev:\n",
        "    occhio = 0\n",
        "    continue\n",
        "  prev = l[i]\n",
        "  occhio += 1\n",
        "  if occhio == 2: print(l[i-1])\n",
        "  if i == len(l) - 1: print(l[i])\n"
      ],
      "metadata": {
        "id": "hKv8DUJtC_-r"
      },
      "execution_count": null,
      "outputs": []
    },
    {
      "cell_type": "markdown",
      "source": [
        "### Check Subset"
      ],
      "metadata": {
        "id": "Jm68vl8kE7XD"
      }
    },
    {
      "cell_type": "code",
      "source": [
        "for _ in range(int(input())):\n",
        "    elem_A  = int(input())\n",
        "    A = set(map(int, input().split()))\n",
        "    elem_B  = int(input())\n",
        "    B = set(map(int, input().split()))\n",
        "\n",
        "    \n",
        "    if len(B) == 0 and len(A) != 0: \n",
        "        print(\"False\")\n",
        "    elif A.intersection(B) == A: \n",
        "        print(\"True\")\n",
        "    else: \n",
        "        print(\"False\")\n"
      ],
      "metadata": {
        "id": "RQe1xszuE7qn"
      },
      "execution_count": null,
      "outputs": []
    },
    {
      "cell_type": "markdown",
      "source": [
        "### Check Strict Superset"
      ],
      "metadata": {
        "id": "ai57YIj3E75p"
      }
    },
    {
      "cell_type": "code",
      "source": [
        "A = set(map(int, input().split()))\n",
        "out = 1\n",
        "for _ in range(int(input())):\n",
        "    B = set(map(int, input().split()))\n",
        "    \n",
        "    if len(B.difference(A)) != 0: out = 0\n",
        "    if len(A) == 0: out = 0\n",
        "    if len(A.intersection(B)) == 0 and len(B) != 0: out = 0\n",
        "    \n",
        "print(bool(out))\n"
      ],
      "metadata": {
        "id": "6TcVdf5YE8Ji"
      },
      "execution_count": null,
      "outputs": []
    },
    {
      "cell_type": "markdown",
      "source": [
        "# Collections"
      ],
      "metadata": {
        "id": "UZLOXCDCE8YG"
      }
    },
    {
      "cell_type": "markdown",
      "source": [
        "### collections.Counter()"
      ],
      "metadata": {
        "id": "fPt3-LOUFrCS"
      }
    },
    {
      "cell_type": "code",
      "source": [
        "from collections import Counter\n",
        "X = int(input())\n",
        "sizes = list(map(int, input().split()))\n",
        "counts = Counter(sizes)\n",
        "sum = 0\n",
        "for _ in range(int(input())):\n",
        "    inp = input().split()\n",
        "    size = int(inp[0])\n",
        "    price = int(inp[1])\n",
        "    if counts[size] != 0:\n",
        "        sum += price\n",
        "        counts[size] -= 1\n",
        "        \n",
        "print(sum)\n",
        "    \n"
      ],
      "metadata": {
        "id": "HEEfsz2SE8n8"
      },
      "execution_count": null,
      "outputs": []
    },
    {
      "cell_type": "markdown",
      "source": [
        "### DefaultDict Tutorial"
      ],
      "metadata": {
        "id": "Sa1dXE8mE80-"
      }
    },
    {
      "cell_type": "code",
      "source": [
        "from collections import defaultdict\n",
        "n_m = input().split()\n",
        "n = int(n_m[0])\n",
        "m = int(n_m[1])\n",
        "B = []\n",
        "counts = defaultdict(list)\n",
        "for i in range(n):\n",
        "    counts[input()].append(i + 1)\n",
        "for _ in range(m):\n",
        "    B.append(input())\n",
        "    \n",
        "for el in B:\n",
        "    if counts[el] == []: print(-1)\n",
        "    else:\n",
        "        print(*counts[el])\n",
        "    \n"
      ],
      "metadata": {
        "id": "zhRtAUh4E9Cy"
      },
      "execution_count": null,
      "outputs": []
    },
    {
      "cell_type": "markdown",
      "source": [
        "### Collections.namedtuple()"
      ],
      "metadata": {
        "id": "gB0uQauWE9Rn"
      }
    },
    {
      "cell_type": "code",
      "source": [
        "from collections import namedtuple\n",
        "N = int(input())\n",
        "columns = list(input().split())\n",
        "student = namedtuple('Student', ' '.join(columns))\n",
        "students = []\n",
        "for _ in range(N):\n",
        "    st = list(input().split())\n",
        "    students.append(student(*st))\n",
        "    \n",
        "mean = sum([int(stud.MARKS) for stud in students])/N\n",
        "\n",
        "print(mean)\n"
      ],
      "metadata": {
        "id": "Xh-9j_I9E9fu"
      },
      "execution_count": null,
      "outputs": []
    },
    {
      "cell_type": "markdown",
      "source": [
        "### Collections.OrderedDict()"
      ],
      "metadata": {
        "id": "wM0a0x2ME9tT"
      }
    },
    {
      "cell_type": "code",
      "source": [
        "from collections import OrderedDict\n",
        "\n",
        "bought = OrderedDict()\n",
        "\n",
        "for _ in range(int(input())):\n",
        "    inp = list(input().split())\n",
        "    if len(inp) > 2:\n",
        "       inp[0] = ' '.join((inp[0], inp[1]))\n",
        "       inp[1] = inp[2]\n",
        "    if inp[0] in bought:\n",
        "        bought[inp[0]] += int(inp[1])\n",
        "    else:\n",
        "        bought[inp[0]] = int(inp[1])\n",
        "\n",
        "for el in bought.items():\n",
        "    print(' '.join([str(e) for e in el]))\n"
      ],
      "metadata": {
        "id": "KO_ocSkaE97s"
      },
      "execution_count": null,
      "outputs": []
    },
    {
      "cell_type": "markdown",
      "source": [
        "### Word Order"
      ],
      "metadata": {
        "id": "lRUMwg1qE-Ii"
      }
    },
    {
      "cell_type": "code",
      "source": [
        "from collections import defaultdict\n",
        "counts = defaultdict(int)\n",
        "for _ in range(int(input())):\n",
        "    word = input()\n",
        "    counts[word] += 1\n",
        "    \n",
        "print(len(counts))\n",
        "print(*counts.values())\n",
        "    \n"
      ],
      "metadata": {
        "id": "2ZzfTN73E-XE"
      },
      "execution_count": null,
      "outputs": []
    },
    {
      "cell_type": "markdown",
      "source": [
        "### Collections.deque()"
      ],
      "metadata": {
        "id": "FVZB1uRFE-l3"
      }
    },
    {
      "cell_type": "code",
      "source": [
        "from collections import deque\n",
        "l = deque()\n",
        "for _ in range(int(input())):\n",
        "    instruction = list(input().split())\n",
        "    if instruction[0] == 'append':\n",
        "        l.append(int(instruction[1]))\n",
        "    if instruction[0] == 'appendleft':\n",
        "        l.appendleft(int(instruction[1]))\n",
        "    if instruction[0] == 'pop':\n",
        "        l.pop()\n",
        "    if instruction[0] == 'popleft':\n",
        "        l.popleft()\n",
        "        \n",
        "print(' '.join([str(el) for el in l]))\n"
      ],
      "metadata": {
        "id": "tidz8cqGE-1q"
      },
      "execution_count": null,
      "outputs": []
    },
    {
      "cell_type": "markdown",
      "source": [
        "### Company Logo"
      ],
      "metadata": {
        "id": "cc94gLnfE_Ef"
      }
    },
    {
      "cell_type": "code",
      "source": [
        "#!/bin/python3\n",
        "\n",
        "import math\n",
        "import os\n",
        "import random\n",
        "import re\n",
        "import sys\n",
        "from collections import Counter\n",
        "\n",
        "\n",
        "\n",
        "if __name__ == '__main__':\n",
        "    s = ''.join(sorted(list(input())))\n",
        "    counts = Counter(s)\n",
        "\n",
        "    max_value = counts.get(max(counts, key = counts.get))\n",
        "max_key = [k for (k,v) in counts.items() if v == max_value][0]\n",
        "print(max_key, max_value)\n",
        "del counts[max_key]\n",
        "\n",
        "max_value = counts.get(max(counts, key = counts.get))\n",
        "max_key = [k for (k,v) in counts.items() if v == max_value][0]\n",
        "print(max_key, max_value)\n",
        "del counts[max_key]\n",
        "\n",
        "max_value = counts.get(max(counts, key = counts.get))\n",
        "max_key = [k for (k,v) in counts.items() if v == max_value][0]\n",
        "print(max_key, max_value)\n",
        "del counts[max_key]\n"
      ],
      "metadata": {
        "id": "_F-LKwwSE_Sk"
      },
      "execution_count": null,
      "outputs": []
    },
    {
      "cell_type": "markdown",
      "source": [
        "### Piling Up!"
      ],
      "metadata": {
        "id": "mIX3dXSJE_gE"
      }
    },
    {
      "cell_type": "code",
      "source": [
        "from collections import deque\n",
        "T = int(input())\n",
        "for _ in range(T):\n",
        "    n = int(input())\n",
        "    l = deque(map(int,input().split()))\n",
        "    result = 'Yes'\n",
        "    pointer = max(l[0], l[len(l) -1])\n",
        "    while len(l) != 0:\n",
        "        if pointer < max(l[0], l[len(l) - 1]):\n",
        "            result = 'No'\n",
        "            break\n",
        "        if l[0] > l[len(l) - 1]:\n",
        "            pointer = l[0]\n",
        "            l.popleft()\n",
        "        else:\n",
        "            pointer = l[len(l) - 1]\n",
        "            l.pop()\n",
        "    print(result)\n",
        "            \n",
        "            \n",
        "            \n"
      ],
      "metadata": {
        "id": "DQtLoqAhE_tm"
      },
      "execution_count": null,
      "outputs": []
    },
    {
      "cell_type": "markdown",
      "source": [
        "# Date and Time"
      ],
      "metadata": {
        "id": "2GksTuIGE_6K"
      }
    },
    {
      "cell_type": "markdown",
      "source": [
        "### Calendar Module"
      ],
      "metadata": {
        "id": "QJLGRr4EGpI7"
      }
    },
    {
      "cell_type": "code",
      "source": [
        "import calendar\n",
        "date = list(map(int,input().split()))\n",
        "month = date[0]\n",
        "day = date[1]\n",
        "year = date[2]\n",
        "\n",
        "result = calendar.weekday(year, month, day)\n",
        "\n",
        "if result == 0: print('MONDAY')\n",
        "if result == 1: print('TUESDAY')\n",
        "if result == 2: print('WEDNESDAY')\n",
        "if result == 3: print('THURSDAY')\n",
        "if result == 4: print('FRIDAY')\n",
        "if result == 5: print('SATURDAY')\n",
        "if result == 6: print('SUNDAY')\n"
      ],
      "metadata": {
        "id": "ZwXrmSx6FASS"
      },
      "execution_count": null,
      "outputs": []
    },
    {
      "cell_type": "markdown",
      "source": [
        "### Time Delta"
      ],
      "metadata": {
        "id": "kZzkAbYYFAg1"
      }
    },
    {
      "cell_type": "code",
      "source": [
        "#!/bin/python3\n",
        "\n",
        "import math\n",
        "import os\n",
        "import random\n",
        "import re\n",
        "import sys\n",
        "import datetime as dt\n",
        "\n",
        "def clean_date(string):\n",
        "  date = string.split(sep=' ')[1:]\n",
        "  day  = date[0]\n",
        "  year = date[2]\n",
        "  date.remove(day)\n",
        "  date.remove(year)\n",
        "  date.insert(0, year)\n",
        "  date.insert(2, day)\n",
        "  tz = list(date[4])\n",
        "  date.remove(date[4])\n",
        "  time = date[3].split(sep=':')\n",
        "  date.remove(date[3])\n",
        "  date = date + time\n",
        "  months = {'Jan':1, 'Feb':2, 'Mar':3, 'Apr':4, 'May':5, 'Jun':6, 'Jul':7, 'Aug':8, 'Sep':9, 'Oct':10, 'Nov':11, 'Dec':12}\n",
        "  date[1] = months.get(date[1])\n",
        "  date = list(map(int, date))\n",
        "\n",
        "  tz.insert(1, '1')\n",
        "  tz_aux = [1,2,3]\n",
        "  tz_aux[0] = ''.join(tz[0:2])\n",
        "  tz_aux[1] = ''.join(tz[2:4])\n",
        "  tz_aux[2] = ''.join(tz[4:6])\n",
        "\n",
        "  return (date, tz_aux)\n",
        "\n",
        "# Complete the time_delta function below.\n",
        "def time_delta(t1, t2):\n",
        "    date1, time_zone1 = clean_date(t1)\n",
        "    date2, time_zone2 = clean_date(t2)\n",
        "\n",
        "\n",
        "    a = dt.datetime(*date1)\n",
        "    b = dt.datetime(*date2)\n",
        "\n",
        "    diff = (b-a).total_seconds()\n",
        "\n",
        "    sec = int(time_zone1[0])*(int(time_zone1[1])*3600 + int(time_zone1[2])*60)  - int(time_zone2[0])*(int(time_zone2[1])*3600 + int(time_zone2[2])*60)\n",
        "\n",
        "    total = abs(diff + sec)\n",
        "    return str(int(total))\n",
        "\n",
        "if __name__ == '__main__':\n",
        "    fptr = open(os.environ['OUTPUT_PATH'], 'w')\n",
        "\n",
        "    t = int(input())\n",
        "\n",
        "    for t_itr in range(t):\n",
        "        t1 = input()\n",
        "\n",
        "        t2 = input()\n",
        "\n",
        "        delta = time_delta(t1, t2)\n",
        "\n",
        "        fptr.write(delta + '\\n')\n",
        "\n",
        "    fptr.close()\n"
      ],
      "metadata": {
        "id": "if5qH_9vFAuD"
      },
      "execution_count": null,
      "outputs": []
    },
    {
      "cell_type": "markdown",
      "source": [
        "#Errors and Exceptions"
      ],
      "metadata": {
        "id": "A0Uc_aiJ4O4e"
      }
    },
    {
      "cell_type": "markdown",
      "source": [
        "### Exceptions\n"
      ],
      "metadata": {
        "id": "yRCgwJ7W4cqJ"
      }
    },
    {
      "cell_type": "code",
      "source": [
        "for _ in range(int(input())):\n",
        "    try:\n",
        "        inp = list(map(int, input().split()))\n",
        "        print(inp[0]//inp[1])\n",
        "    except ZeroDivisionError as e:\n",
        "        print(\"Error Code:\", e)\n",
        "    except ValueError as e:\n",
        "        print(\"Error Code:\", e) "
      ],
      "metadata": {
        "id": "tF2_8zXI4J7s"
      },
      "execution_count": null,
      "outputs": []
    },
    {
      "cell_type": "markdown",
      "source": [
        "#Built-ins"
      ],
      "metadata": {
        "id": "-dzYgCQfiN2o"
      }
    },
    {
      "cell_type": "markdown",
      "source": [
        "### Zipped!"
      ],
      "metadata": {
        "id": "GzLMKJ7TiSEP"
      }
    },
    {
      "cell_type": "code",
      "source": [
        "N, X = list(map(int, input().split()))\n",
        "l = []\n",
        "for _ in range(X):\n",
        "    l.append(list(map(float, input().split())))\n",
        "\n",
        "result = [round(sum(el)/len(el), 1) for el in zip(*l)]\n",
        "print(*result, sep = '\\n')"
      ],
      "metadata": {
        "id": "zcN5ErK1iQq6"
      },
      "execution_count": null,
      "outputs": []
    },
    {
      "cell_type": "markdown",
      "source": [
        "### Athlete Sort"
      ],
      "metadata": {
        "id": "wDboxp5xm9E_"
      }
    },
    {
      "cell_type": "code",
      "source": [
        "import math\n",
        "import os\n",
        "import random\n",
        "import re\n",
        "import sys\n",
        "\n",
        "\n",
        "\n",
        "if __name__ == '__main__':\n",
        "    first_multiple_input = input().rstrip().split()\n",
        "\n",
        "    n = int(first_multiple_input[0])\n",
        "\n",
        "    m = int(first_multiple_input[1])\n",
        "\n",
        "    arr = []\n",
        "\n",
        "    for _ in range(n):\n",
        "        arr.append(list(map(int, input().rstrip().split())))\n",
        "    k = int(input().strip())\n",
        "    arr = sorted(arr, key = lambda x: x[k])\n",
        "    for i in range(n):\n",
        "        print(*arr[i], sep=' ')"
      ],
      "metadata": {
        "id": "XKdXIv8pm9QN"
      },
      "execution_count": null,
      "outputs": []
    },
    {
      "cell_type": "markdown",
      "source": [
        "ginortS"
      ],
      "metadata": {
        "id": "HSw5zFDxu7i1"
      }
    },
    {
      "cell_type": "code",
      "source": [
        "string = input()\n",
        "string = ''.join(sorted(list(string)))\n",
        "lower, upper, odd, even = '', '', '', ''\n",
        "for el in string :\n",
        "  if el.isalpha() == True and el.islower() == True:\n",
        "    lower += el\n",
        "  elif el.isalpha() == True and el.isupper() == True:\n",
        "    upper += el\n",
        "  elif int(el)%2 == 0:\n",
        "    even += el\n",
        "  else:\n",
        "    odd += el\n",
        "print(''.join(lower + upper + odd + even))"
      ],
      "metadata": {
        "id": "OOWyue8Xu7sG"
      },
      "execution_count": null,
      "outputs": []
    },
    {
      "cell_type": "markdown",
      "source": [
        "# Python functionals"
      ],
      "metadata": {
        "id": "SiVaPi_fc8JQ"
      }
    },
    {
      "cell_type": "markdown",
      "source": [
        "### Map and Lambda Function"
      ],
      "metadata": {
        "id": "EWULL7y_dDEs"
      }
    },
    {
      "cell_type": "code",
      "source": [
        "cube = lambda x: x**3\n",
        "\n",
        "def fibonacci(n):\n",
        "  if n == 0: return []\n",
        "  if n == 1: return [0]\n",
        "  elif n == 2: return [0,1]\n",
        "  else:\n",
        "    fib = [0,1]\n",
        "    for i in range(2, n):\n",
        "      fib.append(fib[i-1] + fib[i-2])\n",
        "    return fib\n",
        "\n",
        "if __name__ == '__main__':\n",
        "  n = int(input())\n",
        "  print(list(map(cube, fibonacci(n))))"
      ],
      "metadata": {
        "id": "mmVrmo8zc7A3"
      },
      "execution_count": null,
      "outputs": []
    },
    {
      "cell_type": "markdown",
      "source": [
        "# Regex and Parsing"
      ],
      "metadata": {
        "id": "DLcYd8tX12Pp"
      }
    },
    {
      "cell_type": "markdown",
      "source": [
        "### Re.split()"
      ],
      "metadata": {
        "id": "TVZ0XnM_1129"
      }
    },
    {
      "cell_type": "code",
      "source": [
        "regex_pattern = \"[.,]\"\t# Do not delete 'r'.\n",
        "\n",
        "import re\n",
        "print(\"\\n\".join(re.split(regex_pattern, input())))"
      ],
      "metadata": {
        "id": "raX717fH14BB"
      },
      "execution_count": null,
      "outputs": []
    },
    {
      "cell_type": "markdown",
      "source": [
        "### Validating phone numbers"
      ],
      "metadata": {
        "id": "ZthIfJkiXRrl"
      }
    },
    {
      "cell_type": "code",
      "source": [
        "import re\n",
        "pattern = '^[789]\\d{9}$'\n",
        "for _ in range(int(input())):\n",
        "    string = input()\n",
        "    if re.search(pattern, string):\n",
        "        print('YES')\n",
        "    else:\n",
        "        print('NO')"
      ],
      "metadata": {
        "id": "PPaDTaHOXS0i"
      },
      "execution_count": null,
      "outputs": []
    },
    {
      "cell_type": "markdown",
      "source": [
        "### Detect Floating Point Number"
      ],
      "metadata": {
        "id": "pkFGR1gUlWpF"
      }
    },
    {
      "cell_type": "code",
      "source": [
        "import re\n",
        "for _ in range(int(input())):\n",
        "    string = input()\n",
        "    try:\n",
        "        float(string)\n",
        "    except:\n",
        "        print('False')\n",
        "        continue\n",
        "    pattern = r'\\.'\n",
        "    if re.search(pattern, string):\n",
        "        print('True')\n",
        "    else:\n",
        "        print('False')"
      ],
      "metadata": {
        "id": "6guK8LTElV2r"
      },
      "execution_count": null,
      "outputs": []
    },
    {
      "cell_type": "markdown",
      "source": [
        "### Re.findall() & Re.finditer()"
      ],
      "metadata": {
        "id": "ac_3adxy9wS-"
      }
    },
    {
      "cell_type": "code",
      "source": [
        "import re\n",
        "string = input()\n",
        "expression = r'(?<=[qwrtypsdfghjklzxcvbnmQWRTYPSDFGHJKLZXCVBNM])[aeiouAEIOU]{2,}(?=[qwrtypsdfghjklzxcvbnmQWRTYPSDFGHJKLZXCVBNM])'\n",
        "l = re.findall(expression, string)\n",
        "if len(l) > 0:\n",
        "    print(*l, sep = '\\n')\n",
        "else:\n",
        "    print(-1)"
      ],
      "metadata": {
        "id": "sOMT_dtz9weI"
      },
      "execution_count": null,
      "outputs": []
    },
    {
      "cell_type": "markdown",
      "source": [
        "### Validating UID"
      ],
      "metadata": {
        "id": "G17gmO21vR_v"
      }
    },
    {
      "cell_type": "code",
      "source": [
        "import re\n",
        "pattern = r'^(?=.*[A-Z].*[A-Z].*)(?=.*\\d.*\\d.*\\d.*)(?!.*(.).*\\1.*)[A-Za-z0-9]{10}$'\n",
        "for _ in range(int(input())):\n",
        "    string = input()\n",
        "    if re.search(pattern, string):\n",
        "        print('Valid')\n",
        "    else:\n",
        "        print('Invalid')\n",
        "    "
      ],
      "metadata": {
        "id": "F3o2PQprvSNg"
      },
      "execution_count": null,
      "outputs": []
    },
    {
      "cell_type": "markdown",
      "source": [
        "### Group(), Groups() & Groupdict()\n"
      ],
      "metadata": {
        "id": "JKLsRhf7yOKa"
      }
    },
    {
      "cell_type": "code",
      "source": [
        "import re\n",
        "S = input()\n",
        "\n",
        "string = 'AB123aabade'\n",
        "pattern = r'([a-zA-Z0-9])\\1'\n",
        "\n",
        "out = re.search(pattern, S)\n",
        "if out == None:\n",
        "  print(-1)\n",
        "else:\n",
        "  print(out.group(1))"
      ],
      "metadata": {
        "id": "Y50vDiYayOUU"
      },
      "execution_count": null,
      "outputs": []
    },
    {
      "cell_type": "markdown",
      "source": [
        "### HTML Parser - Part 1"
      ],
      "metadata": {
        "id": "6HxsCbUBO6VS"
      }
    },
    {
      "cell_type": "code",
      "source": [
        "from html.parser import HTMLParser\n",
        "l = []\n",
        "for _ in range(int(input())):\n",
        "    l.append(input())\n",
        "\n",
        "class MyHTMLParser(HTMLParser):\n",
        "    def handle_starttag(self, tag, attrs):\n",
        "        print (\"Start :\", tag)\n",
        "        if len(attrs) > 0:\n",
        "          for el in attrs:\n",
        "            print('-> ' + str(el[0]) + ' > ' + str(el[1]))\n",
        "    def handle_endtag(self, tag):\n",
        "        print (\"End   :\", tag)\n",
        "    def handle_startendtag(self, tag, attrs):\n",
        "        print (\"Empty :\", tag)\n",
        "        if len(attrs) > 0:\n",
        "          for el in attrs:\n",
        "            print('-> ' + str(el[0]) + ' > ' + str(el[1]))\n",
        "\n",
        "parser = MyHTMLParser()\n",
        "for element in l:\n",
        "    parser.feed(element)"
      ],
      "metadata": {
        "id": "l2ZWm81cO6nJ"
      },
      "execution_count": null,
      "outputs": []
    },
    {
      "cell_type": "markdown",
      "source": [
        "### HTML Parser - Part 2"
      ],
      "metadata": {
        "id": "wBinBFIMVXav"
      }
    },
    {
      "cell_type": "code",
      "source": [
        "from html.parser import HTMLParser\n",
        "import re\n",
        "\n",
        "class MyHTMLParser(HTMLParser):\n",
        "    def handle_comment(self,data):\n",
        "        if re.search(r\"\\n\",data):\n",
        "            print(\">>> Multi-line Comment\")\n",
        "            print(data.rstrip())\n",
        "        else:\n",
        "            print(\">>> Single-line Comment\")\n",
        "            print(data.rstrip())\n",
        "    \n",
        "    def handle_data(self,data):\n",
        "        if data != '\\n':\n",
        "            print(\">>> Data\")\n",
        "            print(re.sub('\\n','',data))\n",
        "\n",
        "html = \"\"       \n",
        "for i in range(int(input())):\n",
        "    html += input().rstrip()\n",
        "    html += '\\n'\n",
        "    \n",
        "parser = MyHTMLParser()\n",
        "parser.feed(html)"
      ],
      "metadata": {
        "id": "_f2Nd4sbVXkg"
      },
      "execution_count": null,
      "outputs": []
    },
    {
      "cell_type": "markdown",
      "source": [
        "### Hex Color Code"
      ],
      "metadata": {
        "id": "NIIIv60VkE5R"
      }
    },
    {
      "cell_type": "code",
      "source": [
        "import re\n",
        "pattern = r'(?<!^)#[0-9A-Fa-f]{3}(?:[0-9A-Fa-f]{3})?(?!$)'\n",
        "result = []\n",
        "for _ in range(int(input())):\n",
        "    l = re.findall(pattern, input())\n",
        "    if l:\n",
        "        result = result + l\n",
        "\n",
        "print(*result, sep = '\\n')"
      ],
      "metadata": {
        "id": "ESED6TXzkFHG"
      },
      "execution_count": null,
      "outputs": []
    },
    {
      "cell_type": "markdown",
      "source": [
        "### Re.start() & Re.end()"
      ],
      "metadata": {
        "id": "8epACCfVjZg1"
      }
    },
    {
      "cell_type": "code",
      "source": [
        "import re\n",
        "S = input()\n",
        "k = input()\n",
        "k2 = f'(?={k})'\n",
        "\n",
        "if re.search(k2, S):\n",
        "  l = re.finditer(k2, S)\n",
        "  for el in l:\n",
        "    print((el.start(), el.start() + len(k) - 1))\n",
        "else:\n",
        "  print((-1,-1))"
      ],
      "metadata": {
        "id": "mmX_1vvYjZxI"
      },
      "execution_count": null,
      "outputs": []
    },
    {
      "cell_type": "markdown",
      "source": [
        "### Regex Substitution"
      ],
      "metadata": {
        "id": "BZ6KoTIp11XP"
      }
    },
    {
      "cell_type": "code",
      "source": [
        "import re\n",
        "pattern = '(?<=\\s)&&(?=\\s)|(?<=\\s)\\|\\|(?=\\s)'\n",
        "l = []\n",
        "N = int(input())\n",
        "for _ in range(N):\n",
        "    l.append(input())\n",
        "\n",
        "def func(string):\n",
        "  if string.group(0) == '&&': return 'and'\n",
        "  if string.group(0) == '||': return 'or'\n",
        "\n",
        "for i in range(N):\n",
        "    print(re.sub(pattern, func, l[i]))  "
      ],
      "metadata": {
        "id": "KTZF9ll511iK"
      },
      "execution_count": null,
      "outputs": []
    },
    {
      "cell_type": "markdown",
      "source": [
        "### Validating and Parsing Email Addresses"
      ],
      "metadata": {
        "id": "tj7yToIJNxx7"
      }
    },
    {
      "cell_type": "code",
      "source": [
        "import re\n",
        "import email.utils\n",
        "pattern = '^[a-zA-Z][\\w\\-_\\.]*@[a-zA-Z]+\\.[a-zA-Z]{1,3}$'\n",
        "l = []\n",
        "for _ in range(int(input())):\n",
        "    inp = input()\n",
        "    emails = email.utils.parseaddr(inp)[1]\n",
        "    if re.search(pattern, emails):\n",
        "        l.append(inp)\n",
        "    \n",
        "print(*l, sep='\\n')"
      ],
      "metadata": {
        "id": "oH1niQARNx88"
      },
      "execution_count": null,
      "outputs": []
    },
    {
      "cell_type": "markdown",
      "source": [
        "### Validating Credit Card Numbers"
      ],
      "metadata": {
        "id": "4rH1BVBU_HoF"
      }
    },
    {
      "cell_type": "code",
      "source": [
        "import re\n",
        "\n",
        "pattern = r'^(?!.*(\\d)\\-?\\1\\-?\\1\\-?\\1.*)(?=(\\d{4}\\-){3}\\d{4}|\\d{16}$)[456][\\d\\-]{15,18}$'\n",
        "\n",
        "N = int(input())\n",
        "l = []\n",
        "for _ in range(N):\n",
        "    l.append(input())\n",
        "for el in l:\n",
        "    if re.search(pattern, el):\n",
        "        print('Valid')\n",
        "    else:\n",
        "        print('Invalid')\n"
      ],
      "metadata": {
        "id": "CdE0SYKB_Hxi"
      },
      "execution_count": null,
      "outputs": []
    },
    {
      "cell_type": "markdown",
      "source": [
        "### Validating Postal Codes"
      ],
      "metadata": {
        "id": "25BsKEtgKXnN"
      }
    },
    {
      "cell_type": "code",
      "source": [
        "regex_integer_in_range = r\"^\\d{6}$\"\t# Do not delete 'r'.\n",
        "regex_alternating_repetitive_digit_pair = r\"(?=(\\d)\\d\\1)\"\t# Do not delete 'r'.\n",
        "\n",
        "\n",
        "import re\n",
        "P = input()\n",
        "\n",
        "print (bool(re.match(regex_integer_in_range, P)) \n",
        "and len(re.findall(regex_alternating_repetitive_digit_pair, P)) < 2)"
      ],
      "metadata": {
        "id": "2wPorU1PKW2S"
      },
      "execution_count": null,
      "outputs": []
    },
    {
      "cell_type": "markdown",
      "source": [
        "### Matrix Script"
      ],
      "metadata": {
        "id": "LKgAD4WeU8u6"
      }
    },
    {
      "cell_type": "code",
      "source": [
        "#!/bin/python3\n",
        "\n",
        "import math\n",
        "import os\n",
        "import random\n",
        "import re\n",
        "import sys\n",
        "\n",
        "\n",
        "\n",
        "\n",
        "first_multiple_input = input().rstrip().split()\n",
        "\n",
        "n = int(first_multiple_input[0])\n",
        "\n",
        "m = int(first_multiple_input[1])\n",
        "\n",
        "matrix = []\n",
        "\n",
        "for _ in range(n):\n",
        "    matrix_item = input()\n",
        "    matrix.append(matrix_item)\n",
        "\n",
        "pattern = r'(?<=[a-zA-Z])[\\s!@#$%&]+(?=[a-zA-Z])'\n",
        "    \n",
        "t = ['' for _ in range(len(matrix[0]))]\n",
        "for el in matrix:\n",
        "  for i in range(len(el)):\n",
        "    t[i] = t[i] + el[i]\n",
        "    \n",
        "    \n",
        "string = ''.join(t)\n",
        "\n",
        "print(re.sub(pattern, ' ', string))\n",
        "    "
      ],
      "metadata": {
        "id": "jwtR7HljU84V"
      },
      "execution_count": null,
      "outputs": []
    },
    {
      "cell_type": "markdown",
      "source": [
        "### Detect HTML Tags, Attributes and Attribute Values"
      ],
      "metadata": {
        "id": "tNQVD0Ev_Vi7"
      }
    },
    {
      "cell_type": "code",
      "source": [
        "import re\n",
        "l = []\n",
        "\n",
        "from html.parser import HTMLParser\n",
        "\n",
        "class MyHTMLParser(HTMLParser):\n",
        "    def handle_starttag(self,tag,attrs):\n",
        "        print(tag)\n",
        "        for el in attrs:\n",
        "            print('->',el[0],'>',el[1])\n",
        "   \n",
        " \n",
        "parser=MyHTMLParser()\n",
        "for _ in range(int(input())):\n",
        "    parser.feed(input())\n",
        "    "
      ],
      "metadata": {
        "id": "9PXlHux-_Vyi"
      },
      "execution_count": null,
      "outputs": []
    },
    {
      "cell_type": "markdown",
      "source": [
        "### Validating Roman Numerals"
      ],
      "metadata": {
        "id": "UoBH9LJgSj0w"
      }
    },
    {
      "cell_type": "code",
      "source": [
        "regex_pattern = r\"^(?!.*LL.*)(?!.*(\\w)\\1\\1\\1.*)(?!.*[IVXLCD]{2}M.*|.*[IVXLC]{2}D.*|.*[IVXL]{2}C.*|.*[IVX]{2}L.*|.*[IV]{2}X.*|.*(I{2})V.*)(?!.*I[LCDM].*|.*V[CDM].*|.*X[DM].*|.*L[M].*)[IVXLCDM]*\"\t# Do not delete 'r'.\n",
        "\n",
        "import re\n",
        "print(str(bool(re.match(regex_pattern, input()))))"
      ],
      "metadata": {
        "id": "uEnZ2sHZSj9u"
      },
      "execution_count": null,
      "outputs": []
    },
    {
      "cell_type": "markdown",
      "source": [
        "# XML"
      ],
      "metadata": {
        "id": "FOWjFAGjaVrJ"
      }
    },
    {
      "cell_type": "markdown",
      "source": [
        "### XML 1 - Find the Score"
      ],
      "metadata": {
        "id": "hJKasQLoaXcC"
      }
    },
    {
      "cell_type": "code",
      "source": [
        "import sys\n",
        "import xml.etree.ElementTree as etree\n",
        "\n",
        "def get_attr_number(node):\n",
        "    return sum([len(i.keys()) for i in  node.iter() ])\n",
        "\n",
        "if __name__ == '__main__':\n",
        "    sys.stdin.readline()\n",
        "    xml = sys.stdin.read()\n",
        "    tree = etree.ElementTree(etree.fromstring(xml))\n",
        "    root = tree.getroot()\n",
        "    print(get_attr_number(root))"
      ],
      "metadata": {
        "id": "HFgiRgwgaY6n"
      },
      "execution_count": null,
      "outputs": []
    },
    {
      "cell_type": "markdown",
      "source": [
        "### XML2 - Find the Maximum Depth"
      ],
      "metadata": {
        "id": "JEiU1YNrbZ3F"
      }
    },
    {
      "cell_type": "code",
      "source": [
        "import xml.etree.ElementTree as etree\n",
        "\n",
        "maxdepth = 0\n",
        "def depth(elem, level):\n",
        "    global maxdepth\n",
        "    for child in elem:\n",
        "        depth(child, level+1)\n",
        "    maxdepth = max(level+1, maxdepth)\n",
        "\n",
        "if __name__ == '__main__':\n",
        "    n = int(input())\n",
        "    xml = \"\"\n",
        "    for i in range(n):\n",
        "        xml =  xml + input() + \"\\n\"\n",
        "    tree = etree.ElementTree(etree.fromstring(xml))\n",
        "    depth(tree.getroot(), -1)\n",
        "    print(maxdepth)"
      ],
      "metadata": {
        "id": "6l6ipo9ZbaEM"
      },
      "execution_count": null,
      "outputs": []
    },
    {
      "cell_type": "markdown",
      "source": [
        "# Closures and Decorators"
      ],
      "metadata": {
        "id": "KMOVTCjXMnC1"
      }
    },
    {
      "cell_type": "markdown",
      "source": [
        "### Decorators 2 - Name Directory"
      ],
      "metadata": {
        "id": "joB2fx2D2wLv"
      }
    },
    {
      "cell_type": "code",
      "source": [
        "import operator\n",
        "\n",
        "def person_lister(f):\n",
        "    def inner(people):\n",
        "        people_sort = sorted(people, key = lambda x: int(x[2]))\n",
        "        return [f(el) for el in people_sort]\n",
        "    return inner\n",
        "\n",
        "@person_lister\n",
        "def name_format(person):\n",
        "    return (\"Mr. \" if person[3] == \"M\" else \"Ms. \") + person[0] + \" \" + person[1]\n",
        "\n",
        "if __name__ == '__main__':\n",
        "    people = [input().split() for i in range(int(input()))]\n",
        "    print(*name_format(people), sep='\\n')"
      ],
      "metadata": {
        "id": "TMVnK8Km2wVG"
      },
      "execution_count": null,
      "outputs": []
    },
    {
      "cell_type": "markdown",
      "source": [
        "### Standardize Mobile Number Using Decorators"
      ],
      "metadata": {
        "id": "qQm884O4MuRp"
      }
    },
    {
      "cell_type": "code",
      "source": [
        "import re\n",
        "def wrapper(f):\n",
        "    def fun(l):\n",
        "        l = [re.findall(r'(\\d{10})$', el)[0] if len(el) > 10 else el for el in l]\n",
        "        l = ['+91 ' + el[0:5] + ' ' + el[5:] for el in l]\n",
        "        return f(l)\n",
        "    return fun\n",
        "\n",
        "@wrapper\n",
        "def sort_phone(l):\n",
        "    print(*sorted(l), sep='\\n')\n",
        "\n",
        "if __name__ == '__main__':\n",
        "    l = [input() for _ in range(int(input()))]\n",
        "    sort_phone(l) \n",
        "\n",
        "\n"
      ],
      "metadata": {
        "id": "FTxQM10kMue7"
      },
      "execution_count": null,
      "outputs": []
    },
    {
      "cell_type": "markdown",
      "source": [
        "# Numpy"
      ],
      "metadata": {
        "id": "tzyJ5-2l9t_U"
      }
    },
    {
      "cell_type": "markdown",
      "source": [
        "###Arrays\n"
      ],
      "metadata": {
        "id": "oEZOp8hE95em"
      }
    },
    {
      "cell_type": "code",
      "execution_count": null,
      "metadata": {
        "id": "tKoO4-ST8f5B"
      },
      "outputs": [],
      "source": [
        "import numpy\n",
        "\n",
        "def arrays(arr):\n",
        "    vec = numpy.array(arr, float)\n",
        "    vec = numpy.flip(vec)\n",
        "    return vec\n",
        "\n",
        "arr = input().strip().split(' ')\n",
        "result = arrays(arr)\n",
        "print(result)"
      ]
    },
    {
      "cell_type": "markdown",
      "source": [
        "### Concatenate"
      ],
      "metadata": {
        "id": "Clvy0NV46Vz8"
      }
    },
    {
      "cell_type": "code",
      "source": [
        "import numpy as np\n",
        "l1 = []\n",
        "l2 = []\n",
        "N, M, P = tuple(map(int, input().split()))\n",
        "\n",
        "for _ in range(N):\n",
        "    l1 = l1 + list(map(int, input().split()))\n",
        "for _ in range(M):\n",
        "    l2 = l2 + list(map(int, input().split()))\n",
        "\n",
        "v1 = np.array(l1).reshape((N,P))\n",
        "v2 = np.array(l2).reshape((M,P))\n",
        "\n",
        "print(np.concatenate((v1, v2), axis = 0))"
      ],
      "metadata": {
        "id": "i_y5mMae6SOR"
      },
      "execution_count": null,
      "outputs": []
    },
    {
      "cell_type": "markdown",
      "source": [
        "### Shape and Reshape"
      ],
      "metadata": {
        "id": "CzDhopLY7D_H"
      }
    },
    {
      "cell_type": "code",
      "source": [
        "import numpy as np\n",
        "l = list(map(int, input().split()))\n",
        "print(np.array(l).reshape((3,3)))"
      ],
      "metadata": {
        "id": "4vcfg2UT7EIv"
      },
      "execution_count": null,
      "outputs": []
    },
    {
      "cell_type": "markdown",
      "source": [
        "### Transpose and Flatten"
      ],
      "metadata": {
        "id": "NXTgVHll_zXC"
      }
    },
    {
      "cell_type": "code",
      "source": [
        "import numpy as np\n",
        "N, M = tuple(map(int, input().split()))\n",
        "l = []\n",
        "for _ in range(N):\n",
        "    l = l + list(map(int, input().split()))\n",
        "\n",
        "out = np.array(l).reshape((N,M))\n",
        "print(out.transpose(), out.flatten(), sep='\\n')"
      ],
      "metadata": {
        "id": "-qQ8z9w6_zfv"
      },
      "execution_count": null,
      "outputs": []
    },
    {
      "cell_type": "markdown",
      "source": [
        "### Zeros and Ones"
      ],
      "metadata": {
        "id": "eu-N_biaNaZ-"
      }
    },
    {
      "cell_type": "code",
      "source": [
        "import numpy as np\n",
        "N, M = tuple(map(int, input().split()))\n",
        "print(np.zeros((N,M), dtype = np.int))\n",
        "print(np.ones((N,M), dtype = np.int))\n"
      ],
      "metadata": {
        "id": "8vjsUfsJNanS"
      },
      "execution_count": null,
      "outputs": []
    },
    {
      "cell_type": "markdown",
      "source": [
        "### Eye and Identity\n"
      ],
      "metadata": {
        "id": "MBw5JaEPvGd-"
      }
    },
    {
      "cell_type": "code",
      "source": [
        "import numpy as np\n",
        "np.set_printoptions(legacy='1.13')\n",
        "\n",
        "N,M = tuple(map(int, input().split()))\n",
        "print(np.eye(N,M))"
      ],
      "metadata": {
        "id": "K8PrbACwvGuF"
      },
      "execution_count": null,
      "outputs": []
    },
    {
      "cell_type": "markdown",
      "source": [
        "### Array Mathematics\n"
      ],
      "metadata": {
        "id": "b9udZ9SVTBDw"
      }
    },
    {
      "cell_type": "code",
      "source": [
        "import numpy as np\n",
        "\n",
        "N,M = map(int, input().split())\n",
        "l_A = []\n",
        "l_B = []\n",
        "for _ in range(N):\n",
        "    l_A = l_A + list(map(int, input().split()))\n",
        "for _ in range(N):\n",
        "    l_B = l_B + list(map(int, input().split()))\n",
        "    \n",
        "A = np.array(l_A).reshape((N,M))\n",
        "B = np.array(l_B).reshape((N,M))\n",
        "\n",
        "print(A + B)\n",
        "print(A - B)\n",
        "print(A * B)\n",
        "print(A // B)\n",
        "print(A % B)\n",
        "print(A ** B)\n",
        "\n"
      ],
      "metadata": {
        "id": "dpBXIIh4TBNn"
      },
      "execution_count": null,
      "outputs": []
    },
    {
      "cell_type": "markdown",
      "source": [
        "### Linear Algebra"
      ],
      "metadata": {
        "id": "sB0bDpqKTLG5"
      }
    },
    {
      "cell_type": "code",
      "source": [
        "import numpy as np\n",
        "\n",
        "l = []\n",
        "N = int(input())\n",
        "for _ in range(N):\n",
        "    l = l + list(input().split())\n",
        "    \n",
        "    \n",
        "arr = np.array(l, dtype = np.float32).reshape((N,N))\n",
        "print(round(np.linalg.det(arr), 2))\n"
      ],
      "metadata": {
        "id": "ABwFCCkBTLN4"
      },
      "execution_count": null,
      "outputs": []
    },
    {
      "cell_type": "markdown",
      "source": [
        "### Floor, Ceil and Rint"
      ],
      "metadata": {
        "id": "axsuLGJAUmbM"
      }
    },
    {
      "cell_type": "code",
      "source": [
        "import numpy as np\n",
        "np.set_printoptions(legacy='1.13')\n",
        "\n",
        "A = np.array(list(map(np.float32,input().split())))\n",
        "\n",
        "print(np.floor(A))\n",
        "print(np.ceil(A))\n",
        "print(np.rint(A))\n",
        "\n"
      ],
      "metadata": {
        "id": "Pt0XdRBCUm3u"
      },
      "execution_count": null,
      "outputs": []
    },
    {
      "cell_type": "markdown",
      "source": [
        "### Sum and Prod"
      ],
      "metadata": {
        "id": "VLTdRUdxWTXu"
      }
    },
    {
      "cell_type": "code",
      "source": [
        "import numpy as np\n",
        "\n",
        "N,M = map(int, input().split())\n",
        "l = []\n",
        "\n",
        "for _ in range(N):\n",
        "    l = l + list(map(int, input().split()))\n",
        "    \n",
        "A = np.array(l).reshape((N,M))\n",
        "s = np.sum(A, axis = 0)\n",
        "print(np.product(s))\n"
      ],
      "metadata": {
        "id": "gTNT-ILVWTeW"
      },
      "execution_count": null,
      "outputs": []
    },
    {
      "cell_type": "markdown",
      "source": [
        "### Min and Max"
      ],
      "metadata": {
        "id": "X640wl9CW9PS"
      }
    },
    {
      "cell_type": "code",
      "source": [
        "import numpy as np\n",
        "\n",
        "N,M = map(int, input().split())\n",
        "l = []\n",
        "\n",
        "for _ in range(N):\n",
        "    l = l + list(map(int, input().split()))\n",
        "    \n",
        "A = np.array(l).reshape((N,M))\n",
        "\n",
        "print(np.max(np.min(A, axis=1)))"
      ],
      "metadata": {
        "id": "ntVAv2rTW_Ey"
      },
      "execution_count": null,
      "outputs": []
    },
    {
      "cell_type": "markdown",
      "source": [
        "### Mean, Var, and Std"
      ],
      "metadata": {
        "id": "V8fam46mcgDJ"
      }
    },
    {
      "cell_type": "code",
      "source": [
        "import numpy as np\n",
        "N,M = map(int, input().split())\n",
        "l = []\n",
        "\n",
        "for _ in range(N):\n",
        "    l = l + list(map(int, input().split()))\n",
        "    \n",
        "A = np.array(l, dtype = np.float64).reshape((N,M))\n",
        "\n",
        "print(np.mean(A, axis = 1))\n",
        "print(np.var(A, axis = 0))\n",
        "print(round(np.std(A), 11))\n"
      ],
      "metadata": {
        "id": "5cB12G7-cgTp"
      },
      "execution_count": null,
      "outputs": []
    },
    {
      "cell_type": "markdown",
      "source": [
        "### Dot and Cross"
      ],
      "metadata": {
        "id": "XH5L_1vddIIf"
      }
    },
    {
      "cell_type": "code",
      "source": [
        "import numpy as np\n",
        "\n",
        "N = int(input())\n",
        "l_A = []\n",
        "l_B = []\n",
        "for _ in range(N):\n",
        "    l_A = l_A + list(map(int, input().split()))\n",
        "for _ in range(N):\n",
        "    l_B = l_B + list(map(int, input().split()))\n",
        "    \n",
        "A = np.array(l_A).reshape((N,N))\n",
        "B = np.array(l_B).reshape((N,N))\n",
        "\n",
        "print(A@B)"
      ],
      "metadata": {
        "id": "P0_IOKRqdIQ7"
      },
      "execution_count": null,
      "outputs": []
    },
    {
      "cell_type": "markdown",
      "source": [
        "### Inner and Outer"
      ],
      "metadata": {
        "id": "Q0JeX0weeFdm"
      }
    },
    {
      "cell_type": "code",
      "source": [
        "import numpy as np\n",
        "\n",
        "A = np.array(list(map(int, input().split())))\n",
        "B = np.array(list(map(int, input().split())))\n",
        "\n",
        "print(np.inner(A,B))\n",
        "print(np.outer(A,B))"
      ],
      "metadata": {
        "id": "o6GnfNoPeFlo"
      },
      "execution_count": null,
      "outputs": []
    },
    {
      "cell_type": "markdown",
      "source": [
        "### Polynomials"
      ],
      "metadata": {
        "id": "L_WaD9LcfNrD"
      }
    },
    {
      "cell_type": "code",
      "source": [
        "import numpy as np\n",
        "\n",
        "coeff = list(map(float, input().split()))\n",
        "point = float(input())\n",
        "\n",
        "\n",
        "print(np.polyval(coeff, point))"
      ],
      "metadata": {
        "id": "gCBJXRyCfNzu"
      },
      "execution_count": null,
      "outputs": []
    },
    {
      "cell_type": "markdown",
      "source": [
        "# Part 2"
      ],
      "metadata": {
        "id": "KU9fP7DSJG3K"
      }
    },
    {
      "cell_type": "markdown",
      "source": [
        "### Number Line Jumps"
      ],
      "metadata": {
        "id": "3AnxxPNpJSpi"
      }
    },
    {
      "cell_type": "code",
      "source": [
        "#!/bin/python3\n",
        "\n",
        "import math\n",
        "import os\n",
        "import random\n",
        "import re\n",
        "import sys\n",
        "\n",
        "#\n",
        "# Complete the 'kangaroo' function below.\n",
        "#\n",
        "# The function is expected to return a STRING.\n",
        "# The function accepts following parameters:\n",
        "#  1. INTEGER x1\n",
        "#  2. INTEGER v1\n",
        "#  3. INTEGER x2\n",
        "#  4. INTEGER v2\n",
        "#\n",
        "\n",
        "def kangaroo(x1, v1, x2, v2):\n",
        "    if v1 == v2:\n",
        "        if x1 == x2:\n",
        "            return 'YES'\n",
        "        else:\n",
        "            return 'NO'\n",
        "    elif (x2 - x1)%(v1 - v2) == 0 and (x2 - x1)/(v1 - v2) >= 0: \n",
        "        return 'YES'\n",
        "    else:\n",
        "        return 'NO'\n",
        "\n",
        "\n",
        "if __name__ == '__main__':\n",
        "    fptr = open(os.environ['OUTPUT_PATH'], 'w')\n",
        "\n",
        "    first_multiple_input = input().rstrip().split()\n",
        "\n",
        "    x1 = int(first_multiple_input[0])\n",
        "\n",
        "    v1 = int(first_multiple_input[1])\n",
        "\n",
        "    x2 = int(first_multiple_input[2])\n",
        "\n",
        "    v2 = int(first_multiple_input[3])\n",
        "\n",
        "    result = kangaroo(x1, v1, x2, v2)\n",
        "\n",
        "    fptr.write(result + '\\n')\n",
        "\n",
        "    fptr.close()"
      ],
      "metadata": {
        "id": "lSARSSrtJG_F"
      },
      "execution_count": null,
      "outputs": []
    },
    {
      "cell_type": "markdown",
      "source": [
        "### Viral Advertising"
      ],
      "metadata": {
        "id": "bu_DX8mTvwz8"
      }
    },
    {
      "cell_type": "code",
      "source": [
        "#!/bin/python3\n",
        "\n",
        "import math\n",
        "import os\n",
        "import random\n",
        "import re\n",
        "import sys\n",
        "\n",
        "#\n",
        "# Complete the 'viralAdvertising' function below.\n",
        "#\n",
        "# The function is expected to return an INTEGER.\n",
        "# The function accepts INTEGER n as parameter.\n",
        "#\n",
        "\n",
        "def viralAdvertising(n):\n",
        "    sum = 2\n",
        "    like = 2\n",
        "    if n == 1: return 2\n",
        "    for i in range(1, n):\n",
        "        like = (like*3) // 2\n",
        "        sum += like\n",
        "    return sum\n",
        "\n",
        "if __name__ == '__main__':\n",
        "    fptr = open(os.environ['OUTPUT_PATH'], 'w')\n",
        "\n",
        "    n = int(input().strip())\n",
        "\n",
        "    result = viralAdvertising(n)\n",
        "\n",
        "    fptr.write(str(result) + '\\n')\n",
        "\n",
        "    fptr.close()\n"
      ],
      "metadata": {
        "id": "5DBhL7JgvxBA"
      },
      "execution_count": null,
      "outputs": []
    },
    {
      "cell_type": "markdown",
      "source": [
        "### Insertion Sort - Part 1"
      ],
      "metadata": {
        "id": "zIDI-lCJAMtG"
      }
    },
    {
      "cell_type": "code",
      "source": [
        "#!/bin/python3\n",
        "\n",
        "import math\n",
        "import os\n",
        "import random\n",
        "import re\n",
        "import sys\n",
        "\n",
        "#\n",
        "# Complete the 'insertionSort1' function below.\n",
        "#\n",
        "# The function accepts following parameters:\n",
        "#  1. INTEGER n\n",
        "#  2. INTEGER_ARRAY arr\n",
        "#\n",
        "\n",
        "def insertionSort1(n, arr):\n",
        "    last = arr[n-1]\n",
        "    for i in range(n-2, -2, -1):\n",
        "        if i == -1:\n",
        "            arr[0] = last\n",
        "            print(*arr)\n",
        "            break\n",
        "        if arr[i] > last:\n",
        "            arr[i+1] = arr[i]\n",
        "            print(*arr)\n",
        "        else:\n",
        "            arr[i+1] = last\n",
        "            print(*arr)\n",
        "            break\n",
        "\n",
        "if __name__ == '__main__':\n",
        "    n = int(input().strip())\n",
        "\n",
        "    arr = list(map(int, input().rstrip().split()))\n",
        "\n",
        "    insertionSort1(n, arr)\n"
      ],
      "metadata": {
        "id": "4rA7EFPEAM2F"
      },
      "execution_count": null,
      "outputs": []
    },
    {
      "cell_type": "markdown",
      "source": [
        "### Insertion Sort - Part 2\n",
        "\n"
      ],
      "metadata": {
        "id": "Ufa8Q6KZDCaZ"
      }
    },
    {
      "cell_type": "code",
      "source": [
        "#!/bin/python3\n",
        "\n",
        "import math\n",
        "import os\n",
        "import random\n",
        "import re\n",
        "import sys\n",
        "\n",
        "#\n",
        "# Complete the 'insertionSort2' function below.\n",
        "#\n",
        "# The function accepts following parameters:\n",
        "#  1. INTEGER n\n",
        "#  2. INTEGER_ARRAY arr\n",
        "#\n",
        "def insertionSort1(n, arr):\n",
        "    last = arr[n-1]\n",
        "    for i in range(n-2, -2, -1):\n",
        "        if i == -1:\n",
        "            arr[0] = last\n",
        "            break\n",
        "        if arr[i] > last:\n",
        "            arr[i+1] = arr[i]\n",
        "        else:\n",
        "            arr[i+1] = last\n",
        "            break\n",
        "    return arr\n",
        "\n",
        "\n",
        "def insertionSort2(n, arr):\n",
        "    for i in range(2,n + 1):\n",
        "        arr = insertionSort1(i, arr[0:i+1]) + arr[i+1:]\n",
        "        print(*arr)\n",
        "    return(arr)\n",
        "\n",
        "if __name__ == '__main__':\n",
        "    n = int(input().strip())\n",
        "\n",
        "    arr = list(map(int, input().rstrip().split()))\n",
        "\n",
        "    insertionSort2(n, arr)"
      ],
      "metadata": {
        "id": "LwYxQey-DBw6"
      },
      "execution_count": null,
      "outputs": []
    },
    {
      "cell_type": "markdown",
      "source": [
        "### Birthday Cake Candles"
      ],
      "metadata": {
        "id": "Vf8uyCe3N4VB"
      }
    },
    {
      "cell_type": "code",
      "source": [
        "#!/bin/python3\n",
        "\n",
        "import math\n",
        "import os\n",
        "import random\n",
        "import re\n",
        "import sys\n",
        "\n",
        "#\n",
        "# Complete the 'birthdayCakeCandles' function below.\n",
        "#\n",
        "# The function is expected to return an INTEGER.\n",
        "# The function accepts INTEGER_ARRAY candles as parameter.\n",
        "#\n",
        "\n",
        "def birthdayCakeCandles(candles):\n",
        "    # Write your code here\n",
        "\n",
        "if __name__ == '__main__':\n",
        "    fptr = open(os.environ['OUTPUT_PATH'], 'w')\n",
        "\n",
        "    candles_count = int(input().strip())\n",
        "\n",
        "    candles = list(map(int, input().rstrip().split()))\n",
        "\n",
        "    result = birthdayCakeCandles(candles)\n",
        "\n",
        "    fptr.write(str(result) + '\\n')\n",
        "\n",
        "    fptr.close()\n"
      ],
      "metadata": {
        "id": "n3GLPkK-N4gc"
      },
      "execution_count": null,
      "outputs": []
    },
    {
      "cell_type": "markdown",
      "source": [
        "### Recursive Digit Sum"
      ],
      "metadata": {
        "id": "8CeUi2AuOFjM"
      }
    },
    {
      "cell_type": "code",
      "source": [
        "#!/bin/python3\n",
        "\n",
        "import math\n",
        "import os\n",
        "import random\n",
        "import re\n",
        "import sys\n",
        "\n",
        "#\n",
        "# Complete the 'superDigit' function below.\n",
        "#\n",
        "# The function is expected to return an INTEGER.\n",
        "# The function accepts following parameters:\n",
        "#  1. STRING n\n",
        "#  2. INTEGER k\n",
        "#\n",
        "\n",
        "def superDigit(n, k):\n",
        "    # Write your code here\n",
        "\n",
        "if __name__ == '__main__':\n",
        "    fptr = open(os.environ['OUTPUT_PATH'], 'w')\n",
        "\n",
        "    first_multiple_input = input().rstrip().split()\n",
        "\n",
        "    n = first_multiple_input[0]\n",
        "\n",
        "    k = int(first_multiple_input[1])\n",
        "\n",
        "    result = superDigit(n, k)\n",
        "\n",
        "    fptr.write(str(result) + '\\n')\n",
        "\n",
        "    fptr.close()\n"
      ],
      "metadata": {
        "id": "m7SLIBW8OFvD"
      },
      "execution_count": null,
      "outputs": []
    }
  ]
}